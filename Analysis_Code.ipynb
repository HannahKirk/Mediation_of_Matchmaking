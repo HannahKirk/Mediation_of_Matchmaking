{
 "cells": [
  {
   "cell_type": "markdown",
   "metadata": {},
   "source": [
    "# Set Up"
   ]
  },
  {
   "cell_type": "markdown",
   "metadata": {},
   "source": [
    "## Imports"
   ]
  },
  {
   "cell_type": "code",
   "execution_count": null,
   "metadata": {},
   "outputs": [],
   "source": [
    "# IMPORTS\n",
    "import pandas as pd\n",
    "import numpy as np\n",
    "import matplotlib.pyplot as plt\n",
    "import seaborn as sns\n",
    "import matplotlib.lines as mlines\n",
    "from matplotlib import gridspec\n",
    "import plotly\n",
    "import plotly.graph_objects as go\n",
    "plotly.offline.init_notebook_mode(connected=True)\n",
    "import holoviews as hv\n",
    "hv.extension('bokeh')\n",
    "from holoviews.plotting.util import process_cmap\n",
    "import selenium\n",
    "import tableone\n",
    "from tableone import TableOne\n",
    "import stargazer\n",
    "import statsmodels.api as sm\n",
    "import statsmodels.formula.api as smf"
   ]
  },
  {
   "cell_type": "markdown",
   "metadata": {},
   "source": [
    "## Loading Data"
   ]
  },
  {
   "cell_type": "code",
   "execution_count": null,
   "metadata": {},
   "outputs": [],
   "source": [
    "# LOAD DATA\n",
    "data = pd.read_csv('chengdu_dataset.csv')\n",
    "print(data.shape)\n",
    "data.head()"
   ]
  },
  {
   "cell_type": "markdown",
   "metadata": {},
   "source": [
    "# Data Cleaning"
   ]
  },
  {
   "cell_type": "code",
   "execution_count": null,
   "metadata": {},
   "outputs": [],
   "source": [
    "# Check data types\n",
    "data.dtypes"
   ]
  },
  {
   "cell_type": "code",
   "execution_count": null,
   "metadata": {},
   "outputs": [],
   "source": [
    "def clean_i(old_str, new_str, i):\n",
    "    if i == old_str:\n",
    "        return new_str\n",
    "    else:\n",
    "        return i\n",
    "    \n",
    "def replace_nan(i):\n",
    "    if i == np.nan:\n",
    "        return 'Unspecified'\n",
    "    else:\n",
    "        return i"
   ]
  },
  {
   "cell_type": "markdown",
   "metadata": {},
   "source": [
    "## Market/Parent Splits"
   ]
  },
  {
   "cell_type": "code",
   "execution_count": null,
   "metadata": {},
   "outputs": [],
   "source": [
    "# create a list of our conditions\n",
    "conditions = [\n",
    "    (data['online_dummy'] == 1) & (data['parent_dummy'] == 0),\n",
    "    (data['online_dummy'] == 0) & (data['parent_dummy'] == 1),\n",
    "    (data['online_dummy'] == 0) & (data['parent_dummy'] == 0),\n",
    "    ]\n",
    "\n",
    "# create a list of the values we want to assign for each condition\n",
    "values_labels = ['online', 'offline_parents', 'offline_non_parents']\n",
    "values_numeric = [0,1,2]\n",
    "\n",
    "# create a new column and use np.select to assign values to it using our lists as arguments\n",
    "data['market_class'] = np.select(conditions, values_labels)\n",
    "print(data['market_class'].value_counts())\n",
    "\n",
    "data['market_dummy'] = np.select(conditions, values_numeric)\n",
    "print(data['market_dummy'].value_counts())"
   ]
  },
  {
   "cell_type": "markdown",
   "metadata": {},
   "source": [
    "## Status"
   ]
  },
  {
   "cell_type": "code",
   "execution_count": null,
   "metadata": {},
   "outputs": [],
   "source": [
    "def clean_status(x):\n",
    "    if x == 'separated':\n",
    "        return 'Separated/Divorced'\n",
    "    elif x == 'divorced':\n",
    "        return 'Separated/Divorced'\n",
    "    else:\n",
    "        return x.capitalize()"
   ]
  },
  {
   "cell_type": "code",
   "execution_count": null,
   "metadata": {},
   "outputs": [],
   "source": [
    "data['status_own'] = data['status_own'].map(lambda x: clean_i('no answer', np.nan, x))\n",
    "data['status_own'] = data['status_own'].replace(np.nan, 'Unspecified')\n",
    "data['status_own'] = data['status_own'].map(lambda x: clean_status(x))"
   ]
  },
  {
   "cell_type": "code",
   "execution_count": null,
   "metadata": {},
   "outputs": [],
   "source": [
    "fig, axes = plt.subplots(1, 2, figsize = (12,6))\n",
    "\n",
    "axes[0] = sns.countplot(x=\"status_own\", data=data[data['market_class']=='online'], hue = 'female', ax = axes[0])\n",
    "axes[1] = sns.countplot(x=\"status_own\", data=data[data['market_class']=='offline_parents'], hue = 'female', ax=axes[1])\n",
    "\n",
    "axes[0].set_title('Online')\n",
    "axes[0].set_ylabel('Count')\n",
    "\n",
    "axes[1].set_title('Offline (Parents)')\n",
    "axes[1].set_ylabel('Count')\n",
    "\n",
    "plt.tight_layout()\n",
    "plt.show()"
   ]
  },
  {
   "cell_type": "markdown",
   "metadata": {},
   "source": [
    "## Age"
   ]
  },
  {
   "cell_type": "code",
   "execution_count": null,
   "metadata": {},
   "outputs": [],
   "source": [
    "def return_diff(input_data, var):\n",
    "    ''' Function which updates dataframe with relative differences between own variable, and min/max of partner variable'''\n",
    "    data = input_data.copy()\n",
    "    for i in range(len(data)) : \n",
    "        own_var = data.loc[i, f'{var}_own']\n",
    "        min_var = data.loc[i, f'min{var}_partner']\n",
    "        max_var = data.loc[i, f'max{var}_partner']\n",
    "        if min_var !='Unspecified':\n",
    "            diff_min = float(min_var) - float(own_var)\n",
    "        else:\n",
    "            diff_min = 'Unspecified'\n",
    "        data.loc[i, f'diff_min_{var}'] = diff_min\n",
    "        \n",
    "        if max_var !='Unspecified':\n",
    "            diff_max = float(max_var) - float(own_var)\n",
    "        else:\n",
    "            diff_max = 'Unspecified'\n",
    "        data.loc[i, f'diff_max_{var}'] = diff_max\n",
    "    return data"
   ]
  },
  {
   "cell_type": "code",
   "execution_count": null,
   "metadata": {},
   "outputs": [],
   "source": [
    "# Clean min age\n",
    "data['minage_partner'] = data['minage_partner'].map(lambda x: clean_i('any', np.nan, x))\n",
    "data['minage_partner'] = data['minage_partner'].replace(np.nan, 'Unspecified')\n",
    "\n",
    "# Clean max age\n",
    "data['maxage_partner'] = data['maxage_partner'].map(lambda x: clean_i('no answer', np.nan, x))\n",
    "data['maxage_partner'] = data['maxage_partner'].replace(np.nan, 'Unspecified')"
   ]
  },
  {
   "cell_type": "code",
   "execution_count": null,
   "metadata": {},
   "outputs": [],
   "source": [
    "# Return differences in dataframe\n",
    "data = return_diff(data, 'age')"
   ]
  },
  {
   "cell_type": "code",
   "execution_count": null,
   "metadata": {},
   "outputs": [],
   "source": [
    "fig, axes = plt.subplots(1, 2)\n",
    "\n",
    "axes[0] = sns.boxplot(x=\"female\", y=\"age_own\", data=data[data['market_class']=='online'], orient='v', ax = axes[0])\n",
    "axes[1] = sns.boxplot(x=\"female\", y=\"age_own\", data=data[data['market_class']=='offline_parents'], orient='v', \n",
    "    ax=axes[1])\n",
    "\n",
    "axes[0].set_title('Online')\n",
    "axes[0].set_ylabel('Age (yrs)')\n",
    "axes[0].set_ylim(18, 60)\n",
    "axes[1].set_title('Offline (Parents)')\n",
    "axes[1].set_ylabel('Age (yrs)')\n",
    "axes[1].set_ylim(18, 60)\n",
    "plt.tight_layout()\n",
    "plt.show()"
   ]
  },
  {
   "cell_type": "markdown",
   "metadata": {},
   "source": [
    "## Height"
   ]
  },
  {
   "cell_type": "code",
   "execution_count": null,
   "metadata": {},
   "outputs": [],
   "source": [
    "# Clean min age\n",
    "data['minheight_partner'] = data['minheight_partner'].replace(np.nan, 'Unspecified')\n",
    "\n",
    "# Clean max age\n",
    "data['maxheight_partner'] = data['maxheight_partner'].replace(np.nan, 'Unspecified')"
   ]
  },
  {
   "cell_type": "code",
   "execution_count": null,
   "metadata": {},
   "outputs": [],
   "source": [
    "# Return differences in dataframe\n",
    "data = return_diff(data, 'height')"
   ]
  },
  {
   "cell_type": "code",
   "execution_count": null,
   "metadata": {},
   "outputs": [],
   "source": [
    "fig, axes = plt.subplots(1, 2)\n",
    "\n",
    "axes[0] = sns.boxplot(x=\"female\", y=\"height_own\", data=data[data['market_class']=='online'], orient='v', ax = axes[0])\n",
    "axes[1] = sns.boxplot(x=\"female\", y=\"height_own\", data=data[data['market_class']=='offline_parents'], orient='v', \n",
    "    ax=axes[1])\n",
    "\n",
    "axes[0].set_title('Online')\n",
    "axes[0].set_ylabel('Height (cm)')\n",
    "axes[0].set_ylim(140, 210)\n",
    "axes[1].set_title('Offline (Parents)')\n",
    "axes[1].set_ylabel('Height (cm)')\n",
    "axes[1].set_ylim(140, 210)\n",
    "plt.tight_layout()\n",
    "plt.show()"
   ]
  },
  {
   "cell_type": "markdown",
   "metadata": {},
   "source": [
    "## Education"
   ]
  },
  {
   "cell_type": "code",
   "execution_count": null,
   "metadata": {},
   "outputs": [],
   "source": [
    "# Clean own education\n",
    "data['educ_own_levels'] = data['educ_own_levels'].map(lambda x: clean_i('no answer', np.nan, x))\n",
    "data['educ_own_levels'] = data['educ_own_levels'].replace(np.nan, 'Unspecified')\n",
    "\n",
    "# Clean partner education\n",
    "data['min_educ_partner_levels'] = data['min_educ_partner_levels'].map(lambda x: clean_i(0, np.nan, x))\n",
    "data['min_educ_partner_levels'] = data['min_educ_partner_levels'].replace(np.nan, 'Unspecified')"
   ]
  },
  {
   "cell_type": "code",
   "execution_count": null,
   "metadata": {},
   "outputs": [],
   "source": [
    "# Check counts\n",
    "data['educ_own_levels'].value_counts()"
   ]
  },
  {
   "cell_type": "code",
   "execution_count": null,
   "metadata": {},
   "outputs": [],
   "source": [
    "def educ_diffs(input_data):\n",
    "    ''' Function to return educ diffs from own and partner educ levels'''\n",
    "    data = input_data.copy()\n",
    "    for i in range(len(data)):\n",
    "        # Extract own education:\n",
    "        own_educ = data.loc[i, 'educ_own_levels']\n",
    "        partner_educ = data.loc[i, 'min_educ_partner_levels']\n",
    "        if own_educ !='Unspecified':\n",
    "            own_educ = float(own_educ)\n",
    "            if partner_educ == 'Unspecified':\n",
    "                educ_diff = 'Unspecified Partner Educ'\n",
    "            else:\n",
    "                partner_educ = float(partner_educ)\n",
    "                if partner_educ > own_educ:\n",
    "                    educ_diff = 'Specify Higher Partner Educ'\n",
    "                elif partner_educ == own_educ:\n",
    "                    educ_diff = 'Specify Same Partner Educ'\n",
    "                elif partner_educ < own_educ:\n",
    "                    educ_diff = 'Specify Lower Partner Educ'\n",
    "        elif own_educ == 'Unspecified':\n",
    "            educ_diff = 'Unspecified Own Educ'\n",
    "        \n",
    "        data.loc[i, 'diff_educ'] = educ_diff\n",
    "    \n",
    "    return data"
   ]
  },
  {
   "cell_type": "code",
   "execution_count": null,
   "metadata": {},
   "outputs": [],
   "source": [
    "# Calculate educ diffs in dataframe\n",
    "data = educ_diffs(data)"
   ]
  },
  {
   "cell_type": "code",
   "execution_count": null,
   "metadata": {},
   "outputs": [],
   "source": [
    "# Check counts\n",
    "data['diff_educ'].value_counts()"
   ]
  },
  {
   "cell_type": "code",
   "execution_count": null,
   "metadata": {},
   "outputs": [],
   "source": [
    "def get_educ_cat(i, person):\n",
    "    '''Function to return string label from integer label'''\n",
    "    try:\n",
    "        i = int(i)\n",
    "    except:\n",
    "        pass\n",
    "    if i == 1:\n",
    "        return f\"School {person}\"\n",
    "    elif i == 2:\n",
    "        return f\"Vocational {person}\"\n",
    "    elif i == 3:\n",
    "        return f\"BA {person}\"\n",
    "    elif i == 4:\n",
    "        return f\"MA {person}\"\n",
    "    elif i == 5:\n",
    "        return f\"PhD {person}\"\n",
    "    elif i == 'Unspecified':\n",
    "        return f\"Unspecified {person}\""
   ]
  },
  {
   "cell_type": "code",
   "execution_count": null,
   "metadata": {},
   "outputs": [],
   "source": [
    "data['educ_own_cats'] = data['educ_own_levels'].map(lambda x: get_educ_cat(x, 'Own'))\n",
    "data['educ_partner_cats'] = data['min_educ_partner_levels'].map(lambda x: get_educ_cat(x, 'Partner'))"
   ]
  },
  {
   "cell_type": "code",
   "execution_count": null,
   "metadata": {},
   "outputs": [],
   "source": [
    "fig, axes = plt.subplots(1, 2, figsize = (16,10))\n",
    "\n",
    "axes[0] = sns.countplot(x=\"educ_own_cats\", data=data[data['market_class']=='online'], hue = 'female', ax = axes[0])\n",
    "axes[1] = sns.countplot(x=\"educ_own_cats\", data=data[data['market_class']=='offline_parents'], hue = 'female', ax=axes[1])\n",
    "\n",
    "axes[0].set_title('Online')\n",
    "axes[0].set_ylabel('Count')\n",
    "\n",
    "axes[1].set_title('Offline (Parents)')\n",
    "axes[1].set_ylabel('Count')\n",
    "\n",
    "plt.tight_layout()\n",
    "plt.show()"
   ]
  },
  {
   "cell_type": "markdown",
   "metadata": {},
   "source": [
    "# Output Graphs"
   ]
  },
  {
   "cell_type": "markdown",
   "metadata": {},
   "source": [
    "## Height and Age Differences"
   ]
  },
  {
   "cell_type": "code",
   "execution_count": null,
   "metadata": {},
   "outputs": [],
   "source": [
    "def get_unspecified_counts(i):\n",
    "    if i == 'Unspecified':\n",
    "        return 'Unspecified'\n",
    "    elif i == np.nan:\n",
    "        return 'Unspecified'\n",
    "    else:\n",
    "        return 'Specified'\n",
    "\n",
    "# Add column of unspecified counts to dataframe\n",
    "original_columns = ['age_own', 'diff_min_age', 'diff_max_age', 'height_own','diff_min_height', 'diff_max_height']\n",
    "count_columns = ['own_age_specified', 'min_age_specified', 'max_age_specified', 'own_height_specified','min_height_specified', 'max_height_specified']\n",
    "for orig, count in zip(original_columns, count_columns):\n",
    "    data[count] = data[orig].map(lambda x: get_unspecified_counts(x))\n",
    "    \n",
    "    \n",
    "s = data['own_age_specified'].value_counts()\n",
    "s.to_dict()"
   ]
  },
  {
   "cell_type": "code",
   "execution_count": null,
   "metadata": {},
   "outputs": [],
   "source": [
    "def newline(p1, p2, color='black'):\n",
    "    print(p1, p2)\n",
    "    ax = plt.gca()\n",
    "    l = mlines.Line2D([p1[0],p2[0]], [p1[1],p2[1]], color='grey')\n",
    "    ax.add_line(l)\n",
    "    return l\n",
    "\n",
    "\n",
    "def plot_dumbell_and_bar(data, var, by_group, color_by_gender = False):\n",
    "    fig = plt.figure(figsize=(12,5), dpi= 80)\n",
    "    gs = gridspec.GridSpec(1, 2, width_ratios=[3, 1]) \n",
    "    gs.update(wspace=0.025, hspace=0.05)\n",
    "    ax0 = fig.add_subplot(gs[0])\n",
    "    #ax = axes.ravel()\n",
    "    \n",
    "    genders = ['male', 'male', 'female', 'female']\n",
    "    if by_group == 'parents_vs_online':\n",
    "        markets = [1,0, 1,0]\n",
    "        parents = [0, 1, 0, 1]\n",
    "    elif by_group == 'parents_vs_nonparents':\n",
    "        markets = [0,0,0,0]\n",
    "        parents = [0, 1, 0,1]\n",
    "        \n",
    "    market_dict = {1: 'online', 0:'offline'}\n",
    "    parent_dict = {0: 'non-parent', 1: 'parent'}\n",
    "    \n",
    "\n",
    "    labels = []\n",
    "    median_var = []\n",
    "    max_var = []\n",
    "    min_var = []\n",
    "    spec_var = []\n",
    "    unspec_var = []\n",
    "    spec_min_var = []\n",
    "    unspec_min_var = []\n",
    "    spec_max_var = []\n",
    "    unspec_max_var = []\n",
    "    LQ = []\n",
    "    UQ = []\n",
    "\n",
    "    for gender, market, parent in zip(genders, markets, parents):\n",
    "        # subset data\n",
    "        subset_df = data[(data['gender_own']==gender) & (data['online_dummy']==market) & (data['parent_dummy']==parent)]\n",
    "        #print(f\"SUBSET: {gender, market, parent}\")\n",
    "\n",
    "        # Calculate Spec vs Unspecified counts for bar plot\n",
    "        # OWN VAR\n",
    "        counts = subset_df[f'own_{var}_specified'].value_counts()\n",
    "        count_dict = counts.to_dict()\n",
    "        #print(f'Own Var: {count_dict}')\n",
    "    \n",
    "        if 'Unspecified' in count_dict.keys():\n",
    "            unspec_var.append(count_dict['Unspecified'])\n",
    "        else:\n",
    "            unspec_var.append(0)\n",
    "        \n",
    "        if 'Specified' in count_dict.keys():\n",
    "            spec_var.append(count_dict['Specified'])\n",
    "        else:\n",
    "            spec_var.append(0)\n",
    "        \n",
    "        # MIN VAR\n",
    "        counts = subset_df[f'min_{var}_specified'].value_counts()\n",
    "        count_dict = counts.to_dict()\n",
    "        #print(f'Min Var: {count_dict}')\n",
    "        \n",
    "        if 'Unspecified' in count_dict.keys():\n",
    "            unspec_min_var.append(count_dict['Unspecified'])\n",
    "        else:\n",
    "            unspec_min_var.append(0)\n",
    "        \n",
    "        if 'Specified' in count_dict.keys():\n",
    "            spec_min_var.append(count_dict['Specified'])\n",
    "        else:\n",
    "            spec_min_var.append(0)\n",
    "        \n",
    "        # MAX VAR\n",
    "        counts = subset_df[f'max_{var}_specified'].value_counts()\n",
    "        count_dict = counts.to_dict()\n",
    "        #print(f'Max Var: {count_dict}')\n",
    "        \n",
    "        if 'Unspecified' in count_dict.keys():\n",
    "            unspec_max_var.append(count_dict['Unspecified'])\n",
    "        else:\n",
    "            unspec_max_var.append(0)\n",
    "        \n",
    "        if 'Specified' in count_dict.keys():\n",
    "            spec_max_var.append(count_dict['Specified'])\n",
    "        else:\n",
    "            spec_max_var.append(0)\n",
    "\n",
    "        \n",
    "        \n",
    "        # Calculate medians and IQR for dumbell plot\n",
    "        subset_df = subset_df.replace('Unspecified', np.nan)\n",
    "        labels.append(f'{gender}_{parent_dict[parent]}_{market_dict[market]}')\n",
    "        median_var.append(subset_df[f'{var}_own'].median())\n",
    "        max_var.append(subset_df[f'{var}_own'].median() + subset_df[f'diff_max_{var}'].median())\n",
    "        min_var.append(subset_df[f'{var}_own'].median() + subset_df[f'diff_min_{var}'].median())\n",
    "        LQ.append(np.nanpercentile(subset_df[f'{var}_own'], 25))\n",
    "        UQ.append(np.nanpercentile(subset_df[f'{var}_own'], 75)) \n",
    "\n",
    "    \n",
    "    # Color set up\n",
    "    col1 = 'red'\n",
    "    col2 = 'blue'\n",
    "    color_dict = {'female_non-parent_online': ['red', 'blue'], \n",
    "                  'female_parent_offline':['red', 'blue'],\n",
    "                  'female_non-parent_offline': ['red', 'blue'],\n",
    "                  'male_non-parent_online':['blue', 'red'], \n",
    "                  'male_parent_offline': ['blue', 'red'],\n",
    "                 'male_non-parent_offline': ['blue', 'red']}\n",
    "    own_color_list = ['red', 'red', 'blue', 'blue']\n",
    "    partner_color_list = ['blue', 'blue', 'red', 'red']\n",
    "    \n",
    "    # Label set up\n",
    "    #labels = sorted(labels)\n",
    "    print(f'LABELS: {labels}')\n",
    "    print(f'MEDIAN: {median_var}')\n",
    "    print(f'LQ: {LQ}')\n",
    "    print(f'UQ: {UQ}')\n",
    "    y_pos = np.arange(len(labels))\n",
    "    label_dict = {'female_non-parent_online': 'Female Online', \n",
    "                  'female_parent_offline': 'Female Offline (Parents)', \n",
    "                  'female_non-parent_offline': 'Female Offline (Non-Parents)',\n",
    "                  'male_non-parent_online': 'Male Online', \n",
    "                  'male_parent_offline': 'Male Offline (Parents)',\n",
    "                 'male_non-parent_offline': 'Male Offline (Non-Parents)'}\n",
    "    \n",
    "    # Own variable\n",
    "    if color_by_gender == True:\n",
    "        color_own = own_color_list\n",
    "        color_partner = partner_color_list\n",
    "    else:\n",
    "        color_own = ['black'] * len(labels)\n",
    "        color_partner = ['grey'] * len(labels)\n",
    "    ax0.scatter(y=y_pos+0.1, x=median_var, s=100, color=color_own, alpha=1, label=f'Own {var}', marker = 'o')\n",
    "    ax0.scatter(y=y_pos+0.1, x=LQ, s=100, color=color_own, alpha=1, marker = \"4\")\n",
    "    ax0.scatter(y=y_pos+0.1, x=UQ, s=100, color=color_own, alpha=1, marker = \"3\")\n",
    "    \n",
    "    # Partner variable\n",
    "    ax0.scatter(y=y_pos-0.1, x=min_var, s=100, color=color_partner, alpha=1, label=f'Min partner {var}', marker = \"<\")\n",
    "    ax0.scatter(y=y_pos-0.1, x=max_var, s=100, color=color_partner, alpha=1, label=f'Max partner {var}', marker = \">\")\n",
    "\n",
    "    # Plot line\n",
    "    for j, p1, p2, col in zip(y_pos, min_var, max_var, color_partner):\n",
    "        p1 = [p1, j-0.1]\n",
    "        p2 = [p2, j-0.1]\n",
    "        l = mlines.Line2D([p1[0],p2[0]], [p1[1],p2[1]], color=col, alpha = 0.5)\n",
    "        ax0.add_line(l)\n",
    "        \n",
    "    for j, p1, p2, col in zip(y_pos, LQ, UQ, color_own):\n",
    "        p1 = [p1, j+0.1]\n",
    "        p2 = [p2, j+0.1]\n",
    "        l = mlines.Line2D([p1[0],p2[0]], [p1[1],p2[1]], color=col)\n",
    "        ax0.add_line(l)\n",
    "\n",
    "    # Set axes\n",
    "    ax0.set_yticks(y_pos)\n",
    "    ax0.set_yticklabels([label_dict[label] for label in labels], fontsize = 14) #\n",
    "    x_labels_dict = {'age': 'Age (years)', 'height': 'Height (cm)'}\n",
    "    ax0.set_xlabel(x_labels_dict[var], size = 14)\n",
    "    ax0.tick_params(axis=\"x\", labelsize=14)\n",
    "    title_dict = {'height': 'Height Preferences by Gender and Market', 'age': 'Age Preferences by Gender and Market'}\n",
    "    ax0.grid(False)\n",
    "    \n",
    "    # Set legend\n",
    "    handles, leg_labels = ax0.get_legend_handles_labels()\n",
    "    #ax0.get_legend().remove()\n",
    "    fig.legend(handles, leg_labels, fontsize = 14, loc = 'upper center', ncol = 1, bbox_to_anchor= (0.5, 1.1))\n",
    "    \n",
    "    # Add unspecified bar plot\n",
    "    ax1 = fig.add_subplot(gs[1], sharey = ax0)\n",
    "    \n",
    "    \n",
    "    ax1.barh(y_pos, (np.array(unspec_var)/(np.array(unspec_var)+np.array(spec_var))*100), align = 'edge', height = 0, color='black', label = f'Own {var}')\n",
    "    ax1.barh(y_pos, (np.array(unspec_min_var)/(np.array(unspec_min_var)+np.array(spec_min_var))*100), align = 'edge', height = 0.3, color='grey', edgecolor='black', label = f'Min partner {var}')\n",
    "    ax1.barh(y_pos, (np.array(unspec_max_var)/(np.array(unspec_max_var)+np.array(spec_max_var))*100), align = 'edge', height = -0.3, color='lightgrey', edgecolor='black',  label = f'Max partner {var}')\n",
    "    ax1.set_yticks(y_pos)\n",
    "    \n",
    "    # Set axes\n",
    "    ax1.tick_params(axis=\"x\", labelsize=14)\n",
    "    ax1.tick_params(axis=\"y\", labelsize = 0, colors = 'white')\n",
    "    ax1.set_xlabel(\"% Unspecified\", size = 14)\n",
    "    ax1.grid(False)\n",
    "    \n",
    "    # Set legend\n",
    "    handles, labels = ax1.get_legend_handles_labels()\n",
    "    #ax0.get_legend().remove()\n",
    "    ax0.legend(handles, labels, fontsize = 14, loc = 'upper center', ncol = 1, bbox_to_anchor= (1.18, 1.29))\n",
    "    \n",
    "    fig.savefig(f'Figs/diff_plot_{var}_{by_group}.png', format='png', dpi=900, bbox_inches='tight')\n",
    "    plt.show()"
   ]
  },
  {
   "cell_type": "code",
   "execution_count": null,
   "metadata": {},
   "outputs": [],
   "source": [
    "plot_dumbell_and_bar(data, 'age', 'parents_vs_online', color_by_gender = False)"
   ]
  },
  {
   "cell_type": "code",
   "execution_count": null,
   "metadata": {},
   "outputs": [],
   "source": [
    "plot_dumbell_and_bar(data, 'height', 'parents_vs_online')"
   ]
  },
  {
   "cell_type": "code",
   "execution_count": null,
   "metadata": {},
   "outputs": [],
   "source": [
    "plot_dumbell_and_bar(data, 'age', 'parents_vs_nonparents')"
   ]
  },
  {
   "cell_type": "code",
   "execution_count": null,
   "metadata": {},
   "outputs": [],
   "source": [
    "plot_dumbell_and_bar(data, 'height', 'parents_vs_nonparents')"
   ]
  },
  {
   "cell_type": "markdown",
   "metadata": {},
   "source": [
    "## Education (Sankeys)"
   ]
  },
  {
   "cell_type": "code",
   "execution_count": null,
   "metadata": {},
   "outputs": [],
   "source": [
    "def get_sort_value(i, person):\n",
    "    '''Function to return integer label from string label'''\n",
    "    if i == f'Unspecified {person}':\n",
    "        return 0\n",
    "    if i == f'School {person}':\n",
    "        return 1\n",
    "    if i == f'Vocational {person}':\n",
    "        return 2\n",
    "    if i == f'BA {person}':\n",
    "        return 3\n",
    "    if i == f'MA {person}':\n",
    "        return 4\n",
    "    if i == f'PhD {person}':\n",
    "        return 5"
   ]
  },
  {
   "cell_type": "code",
   "execution_count": null,
   "metadata": {},
   "outputs": [],
   "source": [
    "def make_sankey_data(input_data, gender, market, parent, title):\n",
    "    '''Function to subset dataframe by target group and group data by education counts. Required preparation for the Sankey diagrams'''\n",
    "    market_dict = {'online':1, 'offline':0}\n",
    "    parent_dict = {'non-parent':0, 'parent':1}\n",
    "    \n",
    "    # Subset dataframe\n",
    "    data = input_data[(input_data['gender_own']==gender) & (input_data['online_dummy']==market_dict[market]) & (input_data['parent_dummy']==parent_dict[parent])]\n",
    "    data.loc[:, 'educ_own_cats'] = data.loc[:, 'educ_own_levels'].map(lambda x: get_educ_cat(x, 'Own'))\n",
    "    data.loc[:, 'educ_partner_cats'] = data.loc[:, 'min_educ_partner_levels'].map(lambda x: get_educ_cat(x, 'Partner'))\n",
    "    educ_data = data.loc[:,('educ_own_levels', 'educ_own_cats', 'educ_partner_cats')]\n",
    "    \n",
    "    # Group data\n",
    "    group_data = educ_data.groupby(['educ_own_cats', 'educ_partner_cats']).size().reset_index().rename(columns={0:'count'})\n",
    "    group_data = group_data.sort_values(by = 'educ_own_cats')\n",
    "    group_data.loc[:, 'sort_value_own'] = group_data.loc[:, 'educ_own_cats'].map(lambda x: get_sort_value(x, 'Own'))\n",
    "    group_data.loc[:, 'sort_value_partner'] = group_data.loc[:, 'educ_partner_cats'].map(lambda x: get_sort_value(x, 'Partner')+6)\n",
    "    group_data = group_data.sort_values(by = 'sort_value_own')\n",
    "    \n",
    "    return group_data, title\n"
   ]
  },
  {
   "cell_type": "code",
   "execution_count": null,
   "metadata": {},
   "outputs": [],
   "source": [
    "# Make Sankey Diagrams\n",
    "group_data, title = make_sankey_data(data, 'male', 'offline', 'parent', 'Male Parents Offline')\n",
    "sankey1 = hv.Sankey(group_data, kdims=[\"educ_own_cats\", \"educ_partner_cats\"], vdims=[\"count\"])\n",
    "\n",
    "cmap_list = process_cmap(\"gray\")\n",
    "cmap = {\n",
    "    \"PhD Own\": cmap_list[0], \n",
    "    \"PhD Partner\": cmap_list[0],\n",
    "    \"MA Own\": cmap_list[1],\n",
    "    \"MA Partner\": cmap_list[1],\n",
    "    \"BA Own\": cmap_list[2],\n",
    "    \"BA Partner\": cmap_list[2],\n",
    "    \"Vocational Own\": cmap_list[3],\n",
    "    \"Vocational Partner\": cmap_list[3],\n",
    "    \"School Own\": cmap_list[5],\n",
    "    \"School Partner\": cmap_list[5],\n",
    "    \"Unspecified Own\": cmap_list[4],\n",
    "    \"Unspecified Partner\": cmap_list[4],\n",
    "}\n",
    "\n",
    "sankey1.opts(label_position='outer',                   \n",
    "             edge_line_width=0, edge_color='educ_own_cats', cmap = cmap,\n",
    "                                 node_alpha=1.0, node_width=40, node_sort=True,\n",
    "                                 width=900, height=600, bgcolor=\"white\",\n",
    "                                 title=f\"Relation between Own and Partner Education [{title}]\")"
   ]
  },
  {
   "cell_type": "code",
   "execution_count": null,
   "metadata": {},
   "outputs": [],
   "source": [
    "def make_sankey_plotly(group_data, title):\n",
    "\n",
    "    own_labels = group_data['educ_own_cats'].to_list()\n",
    "    partner_labels = group_data['educ_partner_cats'].to_list()\n",
    "    labels = list(set(own_labels + partner_labels))\n",
    "    print(labels)\n",
    "\n",
    "    source = group_data['sort_value_own'].to_list()\n",
    "    target = group_data['sort_value_partner'].to_list()\n",
    "    value = group_data['count'].to_list()\n",
    "    fig = go.Figure(go.Sankey(\n",
    "        arrangement = \"snap\",\n",
    "        node = {\n",
    "            \"label\": ['Unspecified Own', 'School Own', 'Vocational Own', 'BA Own', 'MA Own', 'PhD Own', 'Unspecified Partner', 'School Partner', 'Vocational Partner', 'BA Partner', 'MA Partner', 'PhD Partner'],\n",
    "            \"x\": [0,0,0,0,0,0,1,1,1,1,1,1],\n",
    "            \"y\": [6, 5, 4, 3, 2, 1, 0.1, 0.2, 0.3, 0.4, 0.5, 0.6],\n",
    "            'pad':10, \n",
    "            'color': \"grey\"},  # 10 Pixels\n",
    "        link = {\n",
    "            \"source\": source,\n",
    "            \"target\": target,\n",
    "            \"value\": value}))\n",
    "\n",
    "    fig.update_layout(\n",
    "        title = title,\n",
    "        autosize=False,\n",
    "        width=600,\n",
    "        height=600,\n",
    "        margin=dict(\n",
    "            l=50,\n",
    "            r=50,\n",
    "            b=100,\n",
    "            t=100,\n",
    "            pad=4\n",
    "        ),\n",
    "        paper_bgcolor=\"White\",\n",
    "    )\n",
    "    \n",
    "    \n",
    "    #fig.write_image(f\"Figs/{title}_Sankey.png\", format=\"png\", width=500, height=500, scale=4)\n",
    "\n",
    "    fig.show()"
   ]
  },
  {
   "cell_type": "code",
   "execution_count": null,
   "metadata": {},
   "outputs": [],
   "source": [
    "# Males Offline\n",
    "group_data, title = make_sankey_data(data, 'male', 'offline', 'parent', 'Male Parents Offline')\n",
    "make_sankey_plotly(group_data, title)"
   ]
  },
  {
   "cell_type": "code",
   "execution_count": null,
   "metadata": {},
   "outputs": [],
   "source": [
    "# Females Offline\n",
    "group_data, title = make_sankey_data(data, 'female', 'offline', 'parent', 'Female Parents Offline')\n",
    "make_sankey_plotly(group_data, title)"
   ]
  },
  {
   "cell_type": "code",
   "execution_count": null,
   "metadata": {},
   "outputs": [],
   "source": [
    "# Males Online\n",
    "group_data, title = make_sankey_data(data, 'male', 'online', 'non-parent', 'Male Online')\n",
    "make_sankey_plotly(group_data, title)"
   ]
  },
  {
   "cell_type": "code",
   "execution_count": null,
   "metadata": {},
   "outputs": [],
   "source": [
    "# Females Online\n",
    "group_data, title = make_sankey_data(data, 'female', 'online', 'non-parent', 'Female Online')\n",
    "make_sankey_plotly(group_data, title)"
   ]
  },
  {
   "cell_type": "markdown",
   "metadata": {},
   "source": [
    "# Summary Tables"
   ]
  },
  {
   "cell_type": "code",
   "execution_count": null,
   "metadata": {},
   "outputs": [],
   "source": [
    "print(data.columns)\n",
    "data.head()"
   ]
  },
  {
   "cell_type": "code",
   "execution_count": null,
   "metadata": {},
   "outputs": [],
   "source": [
    "# Export data\n",
    "data = data.replace('Unspecified', np.nan)\n",
    "data.to_csv('data_analyzed.csv')"
   ]
  },
  {
   "cell_type": "markdown",
   "metadata": {},
   "source": [
    "## Across Gender, Within Market"
   ]
  },
  {
   "cell_type": "code",
   "execution_count": null,
   "metadata": {},
   "outputs": [],
   "source": [
    "def gender_comparison_table(input_df, market, own = True):\n",
    "    if market == 'online':\n",
    "        subset_df = input_df[input_df['market_class']=='online']\n",
    "    elif market == 'offline_parents':\n",
    "        subset_df = input_df[input_df['market_class']=='offline_parents']\n",
    "    elif market == 'offline_non_parents':\n",
    "        subset_df = input_df[input_df['market_class']=='offline_non_parents']\n",
    "        \n",
    "    if own == True:\n",
    "        cols = ['gender_own', 'age_own', 'height_own','status_own' , 'educ_own_cats']\n",
    "        rename_dict = {'gender_own':'Gender', 'age_own': 'Age (years)', 'height_own':'Height (cm)', 'status_own': 'Status', 'educ_own_cats': 'Education'}\n",
    "        categorical = ['Status', 'Education']\n",
    "    elif own == False:\n",
    "        cols = ['gender_own','diff_min_age','diff_max_age', 'diff_min_height', 'diff_max_height', 'diff_educ']\n",
    "        rename_dict = {'gender_own':'Gender', 'diff_min_age': 'Diff Min Age (years)', 'diff_max_age': 'Diff Max Age (years)', \n",
    "                   'diff_max_height': 'Diff Max Height (cm)','diff_min_height': 'Diff Min Height (cm)', 'diff_educ': 'Diff Education'}\n",
    "        categorical = ['Diff Education']\n",
    "    table_df = subset_df[cols].rename(columns = rename_dict)\n",
    "    table_df = table_df.replace('Unspecified', np.nan)\n",
    "    \n",
    "    gender_dict = {'female':'Female', 'male': 'Male'}\n",
    "    table_df['Gender'] = table_df['Gender'].map(lambda x: gender_dict[x])\n",
    "    columns = rename_dict.values()\n",
    "    groupby = 'Gender'\n",
    "    mytable = TableOne(table_df, columns=columns, categorical=categorical,\n",
    "                       groupby=groupby, pval=True)\n",
    "    \n",
    "    print(f'Summary table for gender by {market}')\n",
    "    \n",
    "    return mytable"
   ]
  },
  {
   "cell_type": "markdown",
   "metadata": {},
   "source": [
    "### Own Variables"
   ]
  },
  {
   "cell_type": "code",
   "execution_count": null,
   "metadata": {},
   "outputs": [],
   "source": [
    "table1A = gender_comparison_table(data, 'online')\n",
    "table1A.to_excel('Tables/online_by_gender_own.xlsx')\n",
    "table1A"
   ]
  },
  {
   "cell_type": "code",
   "execution_count": null,
   "metadata": {},
   "outputs": [],
   "source": [
    "table1B = gender_comparison_table(data, 'offline_parents')\n",
    "table1B.to_excel('Tables/offline_parents_by_gender_own.xlsx')\n",
    "table1B"
   ]
  },
  {
   "cell_type": "code",
   "execution_count": null,
   "metadata": {},
   "outputs": [],
   "source": [
    "table1C = gender_comparison_table(data, 'offline_non_parents')\n",
    "table1C.to_excel('Tables/offline_non_parents_by_gender_own.xlsx')\n",
    "table1C"
   ]
  },
  {
   "cell_type": "markdown",
   "metadata": {},
   "source": [
    "### Partner Variables"
   ]
  },
  {
   "cell_type": "code",
   "execution_count": null,
   "metadata": {},
   "outputs": [],
   "source": [
    "table2A = gender_comparison_table(data, 'online', own = False)\n",
    "table2A.to_excel('Tables/online_by_gender_partner.xlsx')\n",
    "table2A"
   ]
  },
  {
   "cell_type": "code",
   "execution_count": null,
   "metadata": {},
   "outputs": [],
   "source": [
    "table2B = gender_comparison_table(data, 'offline_parents', own = False)\n",
    "table2B.to_excel('Tables/offline_parents_by_gender_partner.xlsx')\n",
    "table2B"
   ]
  },
  {
   "cell_type": "code",
   "execution_count": null,
   "metadata": {},
   "outputs": [],
   "source": [
    "table2C = gender_comparison_table(data, 'offline_non_parents', own = False)\n",
    "table2C.to_excel('Tables/offline_non_parents_by_gender_partner.xlsx')\n",
    "table2C"
   ]
  },
  {
   "cell_type": "markdown",
   "metadata": {},
   "source": [
    "## Across Market, Within Gender"
   ]
  },
  {
   "cell_type": "code",
   "execution_count": null,
   "metadata": {},
   "outputs": [],
   "source": [
    "def make_summary_table_diffs(input_df, subset_col, subset_cat):\n",
    "    subset_df = input_df[input_df[subset_col]==subset_cat]\n",
    "    cols = ['gender_own','diff_min_age',\n",
    "       'diff_max_age', 'diff_min_height', 'diff_max_height', 'diff_educ']\n",
    "    rename_dict = {'gender_own':'Gender', 'diff_min_age': 'Diff Min Age (years)', 'diff_max_age': 'Diff Max Age (years)', \n",
    "                   'diff_max_height': 'Diff Max Height (cm)','diff_min_height': 'Diff Min Height (cm)', 'diff_educ': 'Diff Education'}\n",
    "    table_df = subset_df[cols].rename(columns = rename_dict)\n",
    "    table_df = table_df.replace('Unspecified', np.nan)\n",
    "    \n",
    "    gender_dict = {'female':'Female', 'male': 'Male'}\n",
    "    table_df['Gender'] = table_df['Gender'].map(lambda x: gender_dict[x])\n",
    "    columns = rename_dict.values()\n",
    "    groupby = 'Gender'\n",
    "    categorical = ['Diff Education']\n",
    "    mytable = TableOne(table_df, columns=columns, categorical=categorical,\n",
    "                       groupby=groupby, pval=True)\n",
    "    \n",
    "    print(f'Summary table for gender by {subset_cat}')\n",
    "    \n",
    "    return mytable"
   ]
  },
  {
   "cell_type": "code",
   "execution_count": null,
   "metadata": {},
   "outputs": [],
   "source": [
    "def market_comparison_table(input_df, gender, comparison, own = True):\n",
    "    if comparison == 'online_offline_parents':\n",
    "        subset_df = input_df[(input_df['market_class']!='offline_non_parents')]\n",
    "    elif comparison == 'offline_parents_non_parents':\n",
    "        subset_df = input_df[input_df['market_class']!='online']\n",
    "    \n",
    "    if gender == 'female':\n",
    "        gender_df = subset_df[subset_df['female']==1]\n",
    "    elif gender == 'male':\n",
    "        gender_df = subset_df[subset_df['female']==0]\n",
    "    \n",
    "    if own == True:\n",
    "        cols = ['market_class', 'age_own', 'height_own','status_own' , 'educ_own_cats']\n",
    "        rename_dict = {'market_class':'Platform', 'age_own': 'Age (years)', 'height_own':'Height (cm)', 'status_own': 'Status', 'educ_own_cats': 'Education'}\n",
    "        categorical = ['Status', 'Education']\n",
    "    \n",
    "    elif own == False:\n",
    "        cols = ['market_class','diff_min_age','diff_max_age', 'diff_min_height', 'diff_max_height', 'diff_educ']\n",
    "        rename_dict = {'market_class':'Platform', 'diff_min_age': 'Diff Min Age (years)', 'diff_max_age': 'Diff Max Age (years)', \n",
    "                   'diff_max_height': 'Diff Max Height (cm)','diff_min_height': 'Diff Min Height (cm)', 'diff_educ': 'Diff Education'}\n",
    "        categorical = ['Diff Education']\n",
    "    table_df = gender_df[cols].rename(columns = rename_dict)\n",
    "    table_df = table_df.replace('Unspecified', np.nan)\n",
    "    \n",
    "    platform_dict = {'online':'Online', 'offline_parents': 'Offline Parents', 'offline_non_parents': 'Offline Non-Parents'}\n",
    "    table_df['Platform'] = table_df['Platform'].map(lambda x: platform_dict[x])\n",
    "    columns = rename_dict.values()\n",
    "    groupby = 'Platform'\n",
    "    mytable = TableOne(table_df, columns=columns, categorical=categorical,\n",
    "                       groupby=groupby, pval=True)\n",
    "    \n",
    "    print(f'Summary table for platforms by {gender}')\n",
    "    \n",
    "    return mytable"
   ]
  },
  {
   "cell_type": "markdown",
   "metadata": {},
   "source": [
    "### Own Variables"
   ]
  },
  {
   "cell_type": "code",
   "execution_count": null,
   "metadata": {},
   "outputs": [],
   "source": [
    "table3A = market_comparison_table(data, 'female', 'online_offline_parents')\n",
    "table3A.to_excel('Tables/female_by_market_own_(online_vs_offline_parents).xlsx')\n",
    "table3A"
   ]
  },
  {
   "cell_type": "code",
   "execution_count": null,
   "metadata": {},
   "outputs": [],
   "source": [
    "table3B = market_comparison_table(data, 'male', 'online_offline_parents')\n",
    "table3B.to_excel('Tables/male_by_market_own_(online_vs_offline_parents).xlsx')\n",
    "table3B"
   ]
  },
  {
   "cell_type": "code",
   "execution_count": null,
   "metadata": {},
   "outputs": [],
   "source": [
    "table3C = market_comparison_table(data, 'female', 'offline_parents_non_parents')\n",
    "table3C.to_excel('Tables/female_by_market_own_(offline_parents_vs_non-parents).xlsx')\n",
    "table3C"
   ]
  },
  {
   "cell_type": "code",
   "execution_count": null,
   "metadata": {},
   "outputs": [],
   "source": [
    "table3D = market_comparison_table(data, 'male', 'offline_parents_non_parents')\n",
    "table3D.to_excel('Tables/male_by_market_own_(offline_parents_vs_non-parents).xlsx')\n",
    "table3D"
   ]
  },
  {
   "cell_type": "markdown",
   "metadata": {},
   "source": [
    "### Partner Variables"
   ]
  },
  {
   "cell_type": "code",
   "execution_count": null,
   "metadata": {},
   "outputs": [],
   "source": [
    "table4A = market_comparison_table(data, 'female', 'online_offline_parents', own = False)\n",
    "table4A.to_excel('Tables/female_by_market_partner_(online_vs_offline_parents).xlsx')\n",
    "table4A"
   ]
  },
  {
   "cell_type": "code",
   "execution_count": null,
   "metadata": {},
   "outputs": [],
   "source": [
    "table4B = market_comparison_table(data, 'male', 'online_offline_parents', own = False)\n",
    "table4B.to_excel('Tables/male_by_market_partner_(online_vs_offline_parents).xlsx')\n",
    "table4B"
   ]
  },
  {
   "cell_type": "code",
   "execution_count": null,
   "metadata": {},
   "outputs": [],
   "source": [
    "table4C = market_comparison_table(data, 'female', 'offline_parents_non_parents', own = False)\n",
    "table4C.to_excel('Tables/female_by_market_partner_(offline_parents_vs_non-parents).xlsx')\n",
    "table4C"
   ]
  },
  {
   "cell_type": "code",
   "execution_count": null,
   "metadata": {},
   "outputs": [],
   "source": [
    "table4D = market_comparison_table(data, 'male', 'offline_parents_non_parents', own = False)\n",
    "table4D.to_excel('Tables/male_by_market_partner_(offline_parents_vs_non-parents).xlsx')\n",
    "table4D"
   ]
  },
  {
   "cell_type": "markdown",
   "metadata": {},
   "source": [
    "# Regression"
   ]
  },
  {
   "cell_type": "code",
   "execution_count": null,
   "metadata": {},
   "outputs": [],
   "source": [
    "data['market_class'].value_counts()"
   ]
  },
  {
   "cell_type": "code",
   "execution_count": null,
   "metadata": {},
   "outputs": [],
   "source": [
    "reg_data = data[(data['market_class']=='online')|(data['market_class']=='offline_parents')]\n",
    "\n",
    "def get_offline_dummy(x):\n",
    "    if x == 'online':\n",
    "        return 0\n",
    "    elif x =='offline_parents':\n",
    "        return 1\n",
    "    \n",
    "reg_data['offline_parent_dummy'] = reg_data['market_class'].map(lambda x: get_offline_dummy(x))\n"
   ]
  },
  {
   "cell_type": "code",
   "execution_count": null,
   "metadata": {},
   "outputs": [],
   "source": [
    "reg_data = reg_data.replace('Unspecified', np.nan)\n",
    "reg_data['Range_Age'] = reg_data['diff_max_age'] - reg_data['diff_min_age']\n",
    "reg_data['Range_Height'] = reg_data['diff_max_height'] - reg_data['diff_min_height']\n"
   ]
  },
  {
   "cell_type": "code",
   "execution_count": null,
   "metadata": {},
   "outputs": [],
   "source": [
    "def binary_educ(x):\n",
    "    if x == 'BA Partner':\n",
    "        return 1\n",
    "    elif x =='MA Partner':\n",
    "        return 1\n",
    "    elif x == 'PhD Partner':\n",
    "        return 1\n",
    "    else:\n",
    "        return 0\n",
    "    \n",
    "reg_data['binary_educ'] = reg_data['educ_partner_cats'].map(lambda x: binary_educ(x))"
   ]
  },
  {
   "cell_type": "code",
   "execution_count": null,
   "metadata": {},
   "outputs": [],
   "source": [
    "print(reg_data.columns)\n",
    "reg_data"
   ]
  },
  {
   "cell_type": "code",
   "execution_count": null,
   "metadata": {},
   "outputs": [],
   "source": [
    "numeric_dep_vars = ['diff_max_height', 'diff_min_height', 'Range_Height', 'diff_min_age', 'diff_max_age', 'Range_Age']\n",
    "categorical_dep_vars = ['binary_educ']\n",
    "models = []\n",
    "for dep_var in numeric_dep_vars:\n",
    "    ols_model = smf.ols(formula = f\"{dep_var} ~ female + offline_parent_dummy + female*offline_parent_dummy\", data = reg_data)\n",
    "    res = ols_model.fit()\n",
    "    models.append(res)\n",
    "for dep_var in categorical_dep_vars:\n",
    "    logit = smf.logit(formula = f\"{dep_var} ~ female + offline_parent_dummy + female*offline_parent_dummy\", data = reg_data)\n",
    "    res = logit.fit(maxiter=10000)\n",
    "    models.append(res)\n",
    "    print(res.summary())"
   ]
  },
  {
   "cell_type": "code",
   "execution_count": null,
   "metadata": {},
   "outputs": [],
   "source": [
    "from stargazer.stargazer import Stargazer\n",
    "stargazer = Stargazer(models)\n",
    "stargazer.significant_digits(2)\n",
    "stargazer.covariate_order(['Intercept', 'female', 'offline_parent_dummy', 'female:offline_parent_dummy'])\n",
    "stargazer.rename_covariates({'female': 'Female', 'offline_parent_dummy':'Offline (parents)','female:offline_parent_dummy': 'Female*Offline(Parents)'})\n",
    "stargazer.custom_columns(['Min Height', 'Max Height', 'Range Height', 'Min Age', 'Max Age', 'Range Age', 'Specify > BA'], [1,1,1,1,1,1,1])\n",
    "stargazer.render_latex()"
   ]
  },
  {
   "cell_type": "code",
   "execution_count": null,
   "metadata": {},
   "outputs": [],
   "source": []
  }
 ],
 "metadata": {
  "kernelspec": {
   "display_name": "Python 3",
   "language": "python",
   "name": "python3"
  },
  "language_info": {
   "codemirror_mode": {
    "name": "ipython",
    "version": 3
   },
   "file_extension": ".py",
   "mimetype": "text/x-python",
   "name": "python",
   "nbconvert_exporter": "python",
   "pygments_lexer": "ipython3",
   "version": "3.8.3"
  },
  "toc-autonumbering": true
 },
 "nbformat": 4,
 "nbformat_minor": 4
}
